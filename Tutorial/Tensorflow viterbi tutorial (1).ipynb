{
 "cells": [
  {
   "cell_type": "code",
   "execution_count": 31,
   "metadata": {},
   "outputs": [],
   "source": [
    "import tensorflow as tf\n",
    "import numpy as np\n",
    "from sklearn import metrics"
   ]
  },
  {
   "cell_type": "code",
   "execution_count": 2,
   "metadata": {},
   "outputs": [
    {
     "name": "stdout",
     "output_type": "stream",
     "text": [
      "[[2 4 8 ... 9 4 8]\n",
      " [3 8 4 ... 9 8 4]\n",
      " [7 1 8 ... 7 0 3]\n",
      " ...\n",
      " [5 0 4 ... 6 9 8]\n",
      " [8 2 1 ... 5 6 7]\n",
      " [2 1 4 ... 6 4 3]]\n"
     ]
    }
   ],
   "source": [
    "tf.reset_default_graph()\n",
    "\n",
    "batch_size = 10\n",
    "\n",
    "input_data = np.random.randint(0,10,[10,150,10]).astype(np.float32)\n",
    "# print(input_data)\n",
    "\n",
    "labels     = np.random.randint(0,10,[10,150])\n",
    "print(labels)\n",
    "sequence_length = np.random.randint(5,10,[10])\n",
    "\n",
    "\n",
    "\n",
    "\n",
    "logits =       tf.placeholder(dtype=tf.float32,shape=[10,150,10])\n",
    "labels_a =     tf.placeholder(dtype=tf.int32,shape=[10,150])\n",
    "sequence_len =  tf.placeholder(dtype=tf.int32,shape=[10])\n",
    "\n",
    "\n",
    "# logits :       A [batch_size, max_seq_len, num_tags] tensor of unary potentials to use as input to the CRF layer.\n",
    "\n",
    "# labels_a :     A [batch_size, max_seq_len] matrix of tag indices for which we compute the log-likelihood.\n",
    "\n",
    "# sequence_len : A [batch_size] vector of true sequence lengths."
   ]
  },
  {
   "cell_type": "code",
   "execution_count": 3,
   "metadata": {},
   "outputs": [],
   "source": [
    "log_likelihood , transition_params = tf.contrib.crf.crf_log_likelihood(logits,labels_a,sequence_len)\n",
    "\n",
    "#return of crf log_likelihood function\n",
    "\n",
    "# log_likelihood: A scalar containing the log-likelihood of the given sequence of tag indices.\n",
    "    \n",
    "# transition_params: A [num_tags, num_tags] transition matrix. \n",
    "\n",
    "# This is either provided by the caller or created in this function."
   ]
  },
  {
   "cell_type": "code",
   "execution_count": 12,
   "metadata": {},
   "outputs": [
    {
     "name": "stdout",
     "output_type": "stream",
     "text": [
      "[-29.617699  -56.336227  -30.197369  -51.90619   -20.026657  -12.888657\n",
      " -29.83575   -15.2441025 -43.371178  -24.594526 ]\n",
      "\n",
      "\n",
      "\n",
      "\n",
      "[[ 0.13687605  0.02850056 -0.0191958  -0.3702659   0.441212    0.1264326\n",
      "  -0.2744757  -0.1750347   0.23184067  0.1626041 ]\n",
      " [-0.37928763 -0.31222183  0.35007215 -0.05363819  0.3589471   0.01442468\n",
      "  -0.22376254 -0.32380438 -0.04752463  0.40883964]\n",
      " [-0.07560167  0.09980613  0.08682263 -0.43068376  0.41416132  0.34156424\n",
      "  -0.05819854  0.50512147  0.4461283   0.15736312]\n",
      " [ 0.37710643 -0.36421213  0.4110505  -0.30611306 -0.45531997 -0.38490433\n",
      "  -0.24280855  0.39747906  0.15427774  0.10674369]\n",
      " [ 0.4090128   0.33476055 -0.37036932  0.17415404  0.16497833  0.10587674\n",
      "   0.02286988 -0.06318411  0.29523408  0.26088208]\n",
      " [ 0.26114643  0.25977862 -0.3067152  -0.51419663  0.16423291 -0.27652317\n",
      "   0.44483548 -0.46646205 -0.31327826  0.1184532 ]\n",
      " [ 0.37244797 -0.26589078 -0.53226614 -0.19419158  0.52410066  0.19643795\n",
      "  -0.00187248  0.10245681  0.2852264   0.0822919 ]\n",
      " [-0.4223796  -0.5175692  -0.47947624  0.0440498  -0.29869232  0.27234674\n",
      "   0.16952741 -0.04645485  0.25044662  0.03659391]\n",
      " [ 0.1885885   0.06060684  0.26250637 -0.3764527  -0.04683745 -0.10655931\n",
      "   0.15910381 -0.32713526  0.3636899   0.0163486 ]\n",
      " [ 0.11399651  0.01364726  0.21225256 -0.34623483  0.07087284 -0.5000171\n",
      "   0.5085468  -0.27491683 -0.33935446 -0.15176952]]\n"
     ]
    }
   ],
   "source": [
    "with tf.Session() as sess:\n",
    "    sess.run(tf.global_variables_initializer())\n",
    "    log,transition = sess.run([log_likelihood , transition_params],feed_dict={logits:input_data,labels_a:labels,sequence_len:sequence_length})\n",
    "    print(log)\n",
    "    print('\\n\\n\\n')\n",
    "    print(transition)\n",
    "    \n",
    "    "
   ]
  },
  {
   "cell_type": "code",
   "execution_count": 4,
   "metadata": {},
   "outputs": [
    {
     "name": "stdout",
     "output_type": "stream",
     "text": [
      "sequence_length 7   padded_logits (150, 10)   actual_length_logits (7, 10)\n",
      "sequence_length 9   padded_logits (150, 10)   actual_length_logits (9, 10)\n",
      "sequence_length 5   padded_logits (150, 10)   actual_length_logits (5, 10)\n",
      "sequence_length 8   padded_logits (150, 10)   actual_length_logits (8, 10)\n",
      "sequence_length 8   padded_logits (150, 10)   actual_length_logits (8, 10)\n",
      "sequence_length 5   padded_logits (150, 10)   actual_length_logits (5, 10)\n",
      "sequence_length 6   padded_logits (150, 10)   actual_length_logits (6, 10)\n",
      "sequence_length 5   padded_logits (150, 10)   actual_length_logits (5, 10)\n",
      "sequence_length 8   padded_logits (150, 10)   actual_length_logits (8, 10)\n",
      "sequence_length 5   padded_logits (150, 10)   actual_length_logits (5, 10)\n"
     ]
    }
   ],
   "source": [
    "#viterbi algorithm \n",
    "#since we padded our input with 0 \n",
    "# but during veterbi algorithm we remove those padding \n",
    "# and takes the output till origional sequence length only\n",
    "\n",
    "for i in range(batch_size):\n",
    "    print(\"sequence_length {}   padded_logits {}   actual_length_logits {}\".format(sequence_length[i],input_data[i].shape,input_data[i][:sequence_length[i]].shape))\n",
    "    "
   ]
  },
  {
   "cell_type": "code",
   "execution_count": 83,
   "metadata": {},
   "outputs": [
    {
     "name": "stdout",
     "output_type": "stream",
     "text": [
      "[9, 9, 6, 6, 5, 3, 1] 58.67293 [2 4 8 6 5 4 9]\n",
      "\n",
      "\n",
      "confidence_score 0.2857142857142857\n",
      "[9, 4, 6, 0, 8, 6, 6, 1, 4] 78.94832 [3 8 4 6 0 8 1 0 1]\n",
      "\n",
      "\n",
      "confidence_score 0.0\n",
      "[3, 1, 7, 3, 2] 43.767082 [7 1 8 7 4]\n",
      "\n",
      "\n",
      "confidence_score 0.2\n",
      "[6, 5, 6, 2, 2, 2, 4, 1] 68.03157 [9 3 2 5 0 6 2 5]\n",
      "\n",
      "\n",
      "confidence_score 0.0\n",
      "[0, 9, 6, 6, 0, 4, 6, 4] 72.02991 [7 3 6 6 0 2 4 1]\n",
      "\n",
      "\n",
      "confidence_score 0.375\n",
      "[2, 4, 8, 3, 8] 45.48722 [1 3 3 4 7]\n",
      "\n",
      "\n",
      "confidence_score 0.0\n",
      "[0, 7, 5, 2, 6, 0] 48.104847 [9 3 1 1 0 9]\n",
      "\n",
      "\n",
      "confidence_score 0.0\n",
      "[8, 6, 4, 0, 1] 46.120716 [5 0 4 8 7]\n",
      "\n",
      "\n",
      "confidence_score 0.2\n",
      "[6, 4, 8, 0, 0, 9, 3, 3] 66.65506 [8 2 1 4 0 8 0 5]\n",
      "\n",
      "\n",
      "confidence_score 0.125\n",
      "[4, 6, 3, 2, 5] 44.581295 [2 1 4 0 2]\n",
      "\n",
      "\n",
      "confidence_score 0.0\n"
     ]
    }
   ],
   "source": [
    "def accuracy_calculation(real_,predicted_):\n",
    "    \n",
    "\n",
    "    score_ = []\n",
    "    assert len(real_)==len(predicted_) , 'length should be same'\n",
    "    \n",
    "    for combined in zip(real_,predicted_):\n",
    "        if combined[0]==combined[1]:\n",
    "            score_.append(1)\n",
    "        else:\n",
    "            score_.append(0)\n",
    "            \n",
    "    return score_.count(1)/len(score_)\n",
    "\n",
    "\n",
    "\n",
    "#Now_ we can calculate viterbi score \n",
    "\n",
    "# score: A [seq_len, num_tags] matrix of unary potentials.\n",
    "# transition_params: A [num_tags, num_tags] matrix of binary potentials.\n",
    "\n",
    "for seq_len, logits_data , label_ in zip(sequence_length,input_data,labels):\n",
    "    \n",
    "    score_ = np.array(logits_data[:seq_len]).astype(np.float32)\n",
    "    transition_ = transition\n",
    "    \n",
    "#     print(score)           #seq_len x num_tags    \n",
    "#     print(transition_params)#num_tags x num_tags\n",
    "    \n",
    "    viterbi,viterbi_score = tf.contrib.crf.viterbi_decode(score_,transition_)\n",
    "    \n",
    "    print( viterbi,viterbi_score,label_[:seq_len])\n",
    "    print('\\n')\n",
    "    print(\"confidence_score\",accuracy_calculation(viterbi,label_[:seq_len]))\n",
    "    \n",
    "\n",
    "    \n"
   ]
  },
  {
   "cell_type": "code",
   "execution_count": null,
   "metadata": {},
   "outputs": [],
   "source": [
    "\n",
    "       \n"
   ]
  },
  {
   "cell_type": "code",
   "execution_count": null,
   "metadata": {},
   "outputs": [],
   "source": [
    "\n",
    "    "
   ]
  },
  {
   "cell_type": "code",
   "execution_count": null,
   "metadata": {},
   "outputs": [],
   "source": []
  }
 ],
 "metadata": {
  "kernelspec": {
   "display_name": "Python 3",
   "language": "python",
   "name": "python3"
  },
  "language_info": {
   "codemirror_mode": {
    "name": "ipython",
    "version": 3
   },
   "file_extension": ".py",
   "mimetype": "text/x-python",
   "name": "python",
   "nbconvert_exporter": "python",
   "pygments_lexer": "ipython3",
   "version": "3.6.5"
  }
 },
 "nbformat": 4,
 "nbformat_minor": 2
}
