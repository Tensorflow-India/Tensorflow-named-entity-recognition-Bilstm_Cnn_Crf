{
 "cells": [
  {
   "cell_type": "code",
   "execution_count": 1,
   "metadata": {},
   "outputs": [
    {
     "name": "stderr",
     "output_type": "stream",
     "text": [
      "/Users/monk/anaconda3/lib/python3.6/importlib/_bootstrap.py:219: RuntimeWarning: compiletime version 3.5 of module 'tensorflow.python.framework.fast_tensor_util' does not match runtime version 3.6\n",
      "  return f(*args, **kwds)\n",
      "/Users/monk/anaconda3/lib/python3.6/site-packages/h5py/__init__.py:36: FutureWarning: Conversion of the second argument of issubdtype from `float` to `np.floating` is deprecated. In future, it will be treated as `np.float64 == np.dtype(float).type`.\n",
      "  from ._conv import register_converters as _register_converters\n"
     ]
    }
   ],
   "source": [
    "import tensorflow as tf\n",
    "import numpy as np"
   ]
  },
  {
   "cell_type": "code",
   "execution_count": 15,
   "metadata": {},
   "outputs": [
    {
     "name": "stdout",
     "output_type": "stream",
     "text": [
      "[[6 6 3 ... 4 1 1]\n",
      " [7 0 1 ... 4 1 3]\n",
      " [0 8 2 ... 3 9 4]\n",
      " ...\n",
      " [1 9 1 ... 2 2 1]\n",
      " [0 1 1 ... 2 1 9]\n",
      " [0 6 5 ... 7 7 6]]\n"
     ]
    }
   ],
   "source": [
    "tf.reset_default_graph()\n",
    "\n",
    "input_data = np.random.randint(0,10,[10,150,10]).astype(np.float32)\n",
    "# print(input_data)\n",
    "\n",
    "labels     = np.random.randint(0,10,[10,150])\n",
    "print(labels)\n",
    "sequence_length = np.random.randint(5,10,[10])\n",
    "\n",
    "\n",
    "\n",
    "\n",
    "logits =       tf.placeholder(dtype=tf.float32,shape=[10,150,10])\n",
    "labels_a =     tf.placeholder(dtype=tf.int32,shape=[10,150])\n",
    "sequence_len =  tf.placeholder(dtype=tf.int32,shape=[10])\n",
    "\n",
    "\n",
    "# logits :       A [batch_size, max_seq_len, num_tags] tensor of unary potentials to use as input to the CRF layer.\n",
    "\n",
    "# labels_a :     A [batch_size, max_seq_len] matrix of tag indices for which we compute the log-likelihood.\n",
    "\n",
    "# sequence_len : A [batch_size] vector of true sequence lengths."
   ]
  },
  {
   "cell_type": "code",
   "execution_count": 16,
   "metadata": {},
   "outputs": [],
   "source": [
    "log_likelihood , transition_params = tf.contrib.crf.crf_log_likelihood(logits,labels_a,sequence_len)\n",
    "\n",
    "#return of crf log_likelihood function\n",
    "\n",
    "# log_likelihood: A scalar containing the log-likelihood of the given sequence of tag indices.\n",
    "    \n",
    "# transition_params: A [num_tags, num_tags] transition matrix. \n",
    "# This is either provided by the caller or created in this function."
   ]
  },
  {
   "cell_type": "code",
   "execution_count": 22,
   "metadata": {},
   "outputs": [
    {
     "name": "stdout",
     "output_type": "stream",
     "text": [
      "[-26.751984 -39.12082  -23.732555 -31.0827   -54.15993  -27.738861\n",
      " -39.98494  -39.400642 -35.378098 -29.526867]\n",
      "\n",
      "\n",
      "\n",
      "\n",
      "[[ 0.0597254  -0.18939969 -0.37308615 -0.1557309  -0.54387236 -0.18239656\n",
      "   0.44735038  0.14592278  0.28721112 -0.2440784 ]\n",
      " [ 0.36213928  0.2651016  -0.14881057  0.51535153 -0.39267856  0.30944604\n",
      "  -0.21720496  0.4870596  -0.02661616  0.34865993]\n",
      " [-0.20212436  0.33483636 -0.46566105 -0.37441647  0.37160206  0.06753802\n",
      "  -0.4331742  -0.41929865 -0.4389946  -0.29370037]\n",
      " [ 0.08166194 -0.35071632 -0.52802795 -0.42154866 -0.52359176  0.07828969\n",
      "  -0.16364527  0.20560712 -0.02793193  0.16354   ]\n",
      " [-0.09920922  0.2803282   0.32725173 -0.47650865 -0.11156759 -0.3297739\n",
      "   0.528862   -0.44445276 -0.3236537   0.09304971]\n",
      " [-0.11195898  0.52115726  0.28728724 -0.35106826 -0.35146746 -0.51949054\n",
      "   0.38777304 -0.28410807  0.47912037  0.53176105]\n",
      " [-0.17654115 -0.03193027  0.34621352  0.17824453 -0.31043264  0.28358078\n",
      "  -0.38455865 -0.4462499  -0.1393452   0.38169384]\n",
      " [ 0.21490365 -0.07114092  0.07448137 -0.18017736  0.44509417  0.54536605\n",
      "  -0.40922058  0.11490774 -0.242001   -0.30532992]\n",
      " [ 0.14914328 -0.35302928 -0.1274167  -0.4652027  -0.16109475 -0.11751819\n",
      "   0.04030681 -0.41774714  0.0669629  -0.18437898]\n",
      " [-0.14490065 -0.54687154  0.53729856 -0.02322847 -0.1175195  -0.08594221\n",
      "  -0.3132007   0.07811439  0.08772302 -0.10643643]]\n"
     ]
    }
   ],
   "source": [
    "with tf.Session() as sess:\n",
    "    sess.run(tf.global_variables_initializer())\n",
    "    log,transition = sess.run([log_likelihood , transition_params],feed_dict={logits:input_data,labels_a:labels,sequence_len:sequence_length})\n",
    "    print(log)\n",
    "    print('\\n\\n\\n')\n",
    "    print(transition)\n",
    "    \n",
    "    "
   ]
  },
  {
   "cell_type": "code",
   "execution_count": null,
   "metadata": {},
   "outputs": [],
   "source": []
  }
 ],
 "metadata": {
  "kernelspec": {
   "display_name": "Python 3",
   "language": "python",
   "name": "python3"
  },
  "language_info": {
   "codemirror_mode": {
    "name": "ipython",
    "version": 3
   },
   "file_extension": ".py",
   "mimetype": "text/x-python",
   "name": "python",
   "nbconvert_exporter": "python",
   "pygments_lexer": "ipython3",
   "version": "3.6.5"
  }
 },
 "nbformat": 4,
 "nbformat_minor": 2
}
